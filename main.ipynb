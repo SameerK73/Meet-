{
 "cells": [
  {
   "cell_type": "code",
   "execution_count": 193,
   "metadata": {},
   "outputs": [],
   "source": [
    "import google.generativeai as genai\n",
    "import json\n",
    "from Utils import createEvent"
   ]
  },
  {
   "cell_type": "code",
   "execution_count": 2,
   "metadata": {},
   "outputs": [],
   "source": [
    "key = key goes here"
   ]
  },
  {
   "cell_type": "markdown",
   "metadata": {},
   "source": []
  },
  {
   "cell_type": "code",
   "execution_count": 3,
   "metadata": {},
   "outputs": [],
   "source": [
    "genai.configure(api_key=key)"
   ]
  },
  {
   "cell_type": "code",
   "execution_count": 4,
   "metadata": {},
   "outputs": [],
   "source": [
    "model = genai.GenerativeModel('gemini-pro')"
   ]
  },
  {
   "cell_type": "code",
   "execution_count": 5,
   "metadata": {},
   "outputs": [],
   "source": [
    "response = model.generate_content(\"How are you?\")"
   ]
  },
  {
   "cell_type": "code",
   "execution_count": 6,
   "metadata": {},
   "outputs": [
    {
     "data": {
      "text/plain": [
       "'As an AI language model, I do not have personal experiences or emotions, so I cannot have feelings or be in a particular state of being. I am designed to provide information and assist users with a wide range of tasks to the best of my abilities. May I help you with something today?'"
      ]
     },
     "execution_count": 6,
     "metadata": {},
     "output_type": "execute_result"
    }
   ],
   "source": [
    "response.text"
   ]
  },
  {
   "cell_type": "code",
   "execution_count": 224,
   "metadata": {},
   "outputs": [],
   "source": [
    "transcript = \"\"\"\n",
    "\n",
    "Meeting Date: 10/27/2024\n",
    "Attendees:\n",
    "Sameer (sameer@company.com) - Manager (Me)\n",
    "Rita (rita@company.com) - Team Member\n",
    "Scene: A virtual meeting room\n",
    "\n",
    "Sameer: Hey Rita, thanks for joining the call a bit early. I wanted to discuss the \"Update Customer Portal\" task. Have you had a chance to look into it yet?\n",
    "\n",
    "Rita:  Hi Sameer, no worries about being early!  Yes, I've spent some time this morning gathering some initial information. It seems like we'll definitely need to update the FAQ section, with a focus on the recent billing changes that have been causing some confusion. Additionally, the product tour might be a bit outdated—especially with the new features released last month.\n",
    "\n",
    "Sameer:  Excellent point, Rita.  The billing changes have definitely been a customer pain point lately, and ensuring the FAQ section is crystal clear is crucial.  Regarding the product tour, completely agree.  We want new customers to get the most out of the platform, and an outdated tour won't do that.  Have you gotten a sense of the scope of the updates needed for the product tour?\n",
    "\n",
    "Rita:  I've started outlining some initial ideas, but I think a deeper dive is needed.  Perhaps we could involve Sarah from Design as well, since she originally created the tour.  Her input on what aspects could be streamlined or visually revamped would be invaluable.\n",
    "\n",
    "Sameer:  Absolutely.  Getting Sarah on board sounds like a great idea.  She can assess the existing tour and suggest improvements that are both informative and visually engaging.  In the meantime, if you have any specific functionalities or features within the tour that you think need the most attention, feel free to note them down.\n",
    "\n",
    "Rita:  Thanks, Sameer.  I'll definitely jot those down.  One area that definitely jumps out is the mobile app integration portion of the tour.  Since the app has gone through some significant updates recently, I think that part could benefit greatly from a revision.\n",
    "\n",
    "Sameer:  That makes perfect sense.  The mobile app is a big selling point for our service, so ensuring the tour accurately reflects its capabilities is critical.  Alright, so with the FAQ section and the product tour needing updates, let's create a Jira ticket today to outline the specific tasks and due dates.  How does your schedule look for tomorrow afternoon?\n",
    "\n",
    "Rita: My calendar looks clear for tomorrow, so I'm flexible.  However, I don't have permission to create Jira tickets myself.  Would you mind setting it up, and then I can jump in and add details?\n",
    "\n",
    "Sameer:  No problem at all, Rita.  I'll take care of creating the Jira ticket with the initial outline.  Once it's set up, I'll send you the link.\n",
    "\n",
    "Rita:  Perfect, thanks Sameer.  Let's aim to meet tomorrow at 6:30 PM on Google Meet to discuss the updates in more detail.  We can use the Jira ticket as a reference point as well.\n",
    "\n",
    "Sameer:  Sounds like a plan.  We can schedule the meeting for 30 minutes initially, but of course, we can adjust the duration if needed.  In the meantime, if you come across any existing resources or documentation related to the FAQ or product tour, it would be helpful to have that on hand for tomorrow's meeting.\n",
    "\n",
    "Rita:  Will do, Sameer.  I'll see what I can find and compile everything.  Is there anything specific you'd like me to focus on before the meeting?\n",
    "\n",
    "Sameer:  Not necessarily.  Just keep brainstorming any ideas you have for both the FAQ and product tour updates.  The more we can discuss potential solutions tomorrow, the better.\n",
    "\n",
    "Rita:  Sounds good.  I'm looking forward to finalizing a plan for these updates.  Thanks for taking the time to discuss this today, Sameer.\n",
    "\n",
    "Sameer:  Absolutely, Rita.  This is an important project, and I appreciate your initiative in tackling it.  If you have any questions or roadblocks before tomorrow's meeting, don't hesitate to reach out.\n",
    "\n",
    "Rita:  Will do, thanks again.  Talk to you tomorrow!\n",
    "\n",
    "(The meeting ends.)\n",
    "\"\"\""
   ]
  },
  {
   "cell_type": "code",
   "execution_count": 225,
   "metadata": {},
   "outputs": [],
   "source": [
    "template = \"\"\"\n",
    "{\n",
    "    \"summary\": \"Name for the Meeting\",\n",
    "    \"location\": \"location of the meeting\",\n",
    "    \"description\": \"Description of the meeting\",\n",
    "    \"start\": {\n",
    "        \"dateTime\": \"start date time in UTC format\",\n",
    "        \"timeZone\": \"America/Chicago\"\n",
    "        }\n",
    "   \"end\": {\n",
    "        \"dateTime\": \"start date time in UTC format\",\n",
    "        \"timeZone\": \"America/Chicago\",\n",
    "        }\n",
    "    \"attendees\": [\n",
    "       {\"email\": \"emails of the attendees\"}\n",
    "    ]\n",
    "}\n",
    "\"\"\""
   ]
  },
  {
   "cell_type": "code",
   "execution_count": 226,
   "metadata": {},
   "outputs": [],
   "source": [
    "query = f\"Trascript: {transcript} Based on the transcript provided, output the transcript data in json template: {template}.\""
   ]
  },
  {
   "cell_type": "code",
   "execution_count": 227,
   "metadata": {},
   "outputs": [],
   "source": [
    "query2 = f\"Trascript: {transcript} Based on the transcript provided,what are the action items.\"\n"
   ]
  },
  {
   "cell_type": "code",
   "execution_count": 240,
   "metadata": {},
   "outputs": [],
   "source": [
    "q = f\"Trascript: {transcript} Based on the transcript provided, summarize the meeting in 100 words.\""
   ]
  },
  {
   "cell_type": "code",
   "execution_count": 243,
   "metadata": {},
   "outputs": [],
   "source": [
    "q = f\"Trascript: {transcript} Based on the transcript provided, what are the action items for me?\""
   ]
  },
  {
   "cell_type": "code",
   "execution_count": 229,
   "metadata": {},
   "outputs": [],
   "source": [
    "q2= f\"Trascript: {transcript} Based on the transcript provided, Is anything discussed about the next meeting? If yes,  fill in the meeting data in json template: {template}.\""
   ]
  },
  {
   "cell_type": "code",
   "execution_count": 244,
   "metadata": {},
   "outputs": [],
   "source": [
    "response = model.generate_content(q)"
   ]
  },
  {
   "cell_type": "code",
   "execution_count": 245,
   "metadata": {},
   "outputs": [
    {
     "data": {
      "text/plain": [
       "'1. Create a Jira ticket to outline the specific tasks and due dates for the \"Update Customer Portal\" project.\\n2. Send Rita the link to the Jira ticket once it is created.\\n3. Schedule a Google Meet meeting with Rita for tomorrow at 6:30 PM to discuss the updates in more detail.'"
      ]
     },
     "execution_count": 245,
     "metadata": {},
     "output_type": "execute_result"
    }
   ],
   "source": [
    "response.text"
   ]
  },
  {
   "cell_type": "code",
   "execution_count": 231,
   "metadata": {},
   "outputs": [],
   "source": [
    "d = response.text.replace(\"\\n\", \"\")"
   ]
  },
  {
   "cell_type": "code",
   "execution_count": 232,
   "metadata": {},
   "outputs": [
    {
     "data": {
      "text/plain": [
       "'{    \"summary\": \"Update Customer Portal - Follow-up\",    \"location\": \"Google Meet\",    \"description\": \"Discuss updates to the customer portal, including the FAQ section and product tour.\",    \"start\": {        \"dateTime\": \"2024-10-28T18:30:00-05:00\",        \"timeZone\": \"America/Chicago\"        },   \"end\": {        \"dateTime\": \"2024-10-28T19:00:00-05:00\",        \"timeZone\": \"America/Chicago\",        },    \"attendees\": [       {\"email\": \"sameer@company.com\"},       {\"email\": \"rita@company.com\"}    ]}'"
      ]
     },
     "execution_count": 232,
     "metadata": {},
     "output_type": "execute_result"
    }
   ],
   "source": [
    "d"
   ]
  },
  {
   "cell_type": "code",
   "execution_count": 233,
   "metadata": {},
   "outputs": [],
   "source": [
    "dd=eval(d)"
   ]
  },
  {
   "cell_type": "code",
   "execution_count": 234,
   "metadata": {},
   "outputs": [
    {
     "data": {
      "text/plain": [
       "{'summary': 'Update Customer Portal - Follow-up',\n",
       " 'location': 'Google Meet',\n",
       " 'description': 'Discuss updates to the customer portal, including the FAQ section and product tour.',\n",
       " 'start': {'dateTime': '2024-10-28T18:30:00-05:00',\n",
       "  'timeZone': 'America/Chicago'},\n",
       " 'end': {'dateTime': '2024-10-28T19:00:00-05:00',\n",
       "  'timeZone': 'America/Chicago'},\n",
       " 'attendees': [{'email': 'sameer@company.com'}, {'email': 'rita@company.com'}]}"
      ]
     },
     "execution_count": 234,
     "metadata": {},
     "output_type": "execute_result"
    }
   ],
   "source": [
    "dd"
   ]
  },
  {
   "cell_type": "code",
   "execution_count": 235,
   "metadata": {},
   "outputs": [
    {
     "name": "stdout",
     "output_type": "stream",
     "text": [
      "Event created: https://www.google.com/calendar/event?eid=OW1nOGpjdDVsbXNqbGgydmtucW83cHBiNDggc2FtZWVyc3BhbTczQG0\n"
     ]
    }
   ],
   "source": [
    "createEvent(dd)"
   ]
  },
  {
   "cell_type": "markdown",
   "metadata": {},
   "source": []
  }
 ],
 "metadata": {
  "kernelspec": {
   "display_name": "Python 3",
   "language": "python",
   "name": "python3"
  },
  "language_info": {
   "codemirror_mode": {
    "name": "ipython",
    "version": 3
   },
   "file_extension": ".py",
   "mimetype": "text/x-python",
   "name": "python",
   "nbconvert_exporter": "python",
   "pygments_lexer": "ipython3",
   "version": "3.11.4"
  }
 },
 "nbformat": 4,
 "nbformat_minor": 2
}
